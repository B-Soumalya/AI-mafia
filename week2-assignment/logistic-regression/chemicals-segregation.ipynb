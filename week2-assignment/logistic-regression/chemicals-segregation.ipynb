{
 "cells": [
  {
   "cell_type": "code",
   "execution_count": 4,
   "id": "5d40d67e-3ee1-4ce3-a997-57f147e4ab0b",
   "metadata": {},
   "outputs": [],
   "source": [
    "#importing libraries\n",
    "import numpy as np\n",
    "import pandas as pd\n",
    "import matplotlib.pyplot as plt"
   ]
  },
  {
   "cell_type": "code",
   "execution_count": 5,
   "id": "dfa200ca-248b-4b4b-842d-29a7b37024b0",
   "metadata": {},
   "outputs": [],
   "source": [
    "# Load training data\n",
    "X_train_df = pd.read_csv('./Training Data/Logistic_X_Train.csv', skiprows=1, header=None)\n",
    "Y_train_df = pd.read_csv('./Training Data/Logistic_Y_Train.csv', skiprows=1, header=None)\n",
    "\n",
    "X_train = X_train_df.values  # shape (n_samples, 3)\n",
    "Y_train = Y_train_df.values.flatten()  # shape (n_samples,)"
   ]
  },
  {
   "cell_type": "code",
   "execution_count": 6,
   "id": "b7de6106-d28e-4067-a074-494469ecee8f",
   "metadata": {},
   "outputs": [],
   "source": [
    "# Load test data\n",
    "X_test_df = pd.read_csv('./Testing Data/Logistic_X_Test.csv', skiprows=1, header=None)\n",
    "X_test = X_test_df.values"
   ]
  },
  {
   "cell_type": "code",
   "execution_count": 7,
   "id": "3664f5b3-832d-4279-a680-48b88ae44654",
   "metadata": {},
   "outputs": [],
   "source": [
    "# Initialize weights and bias\n",
    "W = 2 * np.random.random((X_train.shape[1],))\n",
    "b = 5 * np.random.random()"
   ]
  },
  {
   "cell_type": "code",
   "execution_count": 8,
   "id": "bfde5338-110b-47fa-a5c7-1d1979d96b51",
   "metadata": {},
   "outputs": [],
   "source": [
    "# Logistic regression functions\n",
    "def sigmoid(h):\n",
    "    return 1.0 / (1.0 + np.exp(-h))\n",
    "\n",
    "def hypothesis(x, w, b):\n",
    "    return sigmoid(np.dot(x, w) + b)\n",
    "\n",
    "def error(y, x, w, b):\n",
    "    m = x.shape[0]\n",
    "    err = 0.0\n",
    "    for i in range(m):\n",
    "        hx = hypothesis(x[i], w, b)\n",
    "        err += y[i] * np.log2(hx) + (1 - y[i]) * np.log2(1 - hx)\n",
    "    return -err / m\n",
    "\n",
    "def get_grad(x, w, b, y):\n",
    "    grad_b = 0.0\n",
    "    grad_w = np.zeros(w.shape)\n",
    "    m = x.shape[0]\n",
    "    for i in range(m):\n",
    "        hx = hypothesis(x[i], w, b)\n",
    "        grad_w += (y[i] - hx) * x[i]\n",
    "        grad_b += (y[i] - hx)\n",
    "    grad_w /= m\n",
    "    grad_b /= m\n",
    "    return grad_w, grad_b\n",
    "\n",
    "def gradient_descent(x, y, w, b, learning_rate=0.01):\n",
    "    err = error(y, x, w, b)\n",
    "    grad_w, grad_b = get_grad(x, w, b, y)\n",
    "    w = w + learning_rate * grad_w\n",
    "    b = b + learning_rate * grad_b\n",
    "    return err, w, b\n",
    "\n",
    "def predict(x, w, b):\n",
    "    return 1 if hypothesis(x, w, b) >= 0.5 else 0"
   ]
  },
  {
   "cell_type": "code",
   "execution_count": null,
   "id": "047e0c26-38f1-4d43-b02e-17ec4bb774fa",
   "metadata": {},
   "outputs": [],
   "source": [
    "# Train the model\n",
    "loss = []\n",
    "for i in range(1000):\n",
    "    l, W, b = gradient_descent(X_train, Y_train, W, b, learning_rate=0.1)\n",
    "    loss.append(l)"
   ]
  },
  {
   "cell_type": "code",
   "execution_count": null,
   "id": "366cf9e5-8738-4df2-ad7c-d7bc9f8b72e8",
   "metadata": {},
   "outputs": [],
   "source": [
    "# Predict on test data\n",
    "Y_pred = np.array([predict(x, W, b) for x in X_test])\n",
    "pd.DataFrame({'label': Y_pred}).to_csv('Y_pred.csv', index=False)"
   ]
  }
 ],
 "metadata": {
  "kernelspec": {
   "display_name": "Python 3 (ipykernel)",
   "language": "python",
   "name": "python3"
  },
  "language_info": {
   "codemirror_mode": {
    "name": "ipython",
    "version": 3
   },
   "file_extension": ".py",
   "mimetype": "text/x-python",
   "name": "python",
   "nbconvert_exporter": "python",
   "pygments_lexer": "ipython3",
   "version": "3.13.5"
  }
 },
 "nbformat": 4,
 "nbformat_minor": 5
}
